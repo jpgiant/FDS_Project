{
 "cells": [
  {
   "cell_type": "code",
   "execution_count": 1,
   "metadata": {},
   "outputs": [],
   "source": [
    "import numpy as np\n",
    "import pandas as pd\n",
    "import matplotlib\n",
    "import matplotlib.pyplot as plt\n",
    "\n",
    "raw_df = pd.read_csv('/Users/agnespark/fds/data/ll84.csv', na_values='Not Available')\n",
    "final_df = pd.read_csv('/Users/agnespark/fds/data/final.csv')"
   ]
  },
  {
   "cell_type": "code",
   "execution_count": 175,
   "metadata": {},
   "outputs": [
    {
     "data": {
      "text/plain": [
       "Index(['Property Id', 'Property Name', 'Parent Property Id',\n",
       "       'Parent Property Name', 'Month', 'Natural Gas Use  (kBtu)',\n",
       "       'Electricity Use  (kBtu)'],\n",
       "      dtype='object')"
      ]
     },
     "execution_count": 175,
     "metadata": {},
     "output_type": "execute_result"
    }
   ],
   "source": [
    "raw_df.columns"
   ]
  },
  {
   "cell_type": "code",
   "execution_count": 46,
   "metadata": {},
   "outputs": [
    {
     "data": {
      "text/plain": [
       "Index(['Property Id', 'Property Name', 'Address 1', 'Postcode',\n",
       "       'Primary Property Type - Portfolio Manager-Calculated', 'Year Built',\n",
       "       'Number of Buildings', 'Occupancy', 'Metered Areas (Energy)',\n",
       "       'Metered Areas  (Water)', 'ENERGY STAR Score', 'Site EUI (kBtu/ft²)',\n",
       "       'Weather Normalized Site EUI (kBtu/ft²)',\n",
       "       'National Median Site EUI (kBtu/ft²)',\n",
       "       '% Difference from National Median Site EUI', 'Site Energy Use (kBtu)',\n",
       "       'Weather Normalized Site Energy Use (kBtu)',\n",
       "       'Weather Normalized Site Electricity Intensity (kWh/ft²)',\n",
       "       'Weather Normalized Site Natural Gas Intensity (therms/ft²)',\n",
       "       'Source EUI (kBtu/ft²)', 'Weather Normalized Source EUI (kBtu/ft²)',\n",
       "       'National Median Source EUI (kBtu/ft²)',\n",
       "       '% Difference from National Median Source EUI',\n",
       "       'Source Energy Use - Adjusted to Current Year (kBtu)',\n",
       "       'Source Energy Use (kBtu)',\n",
       "       'Weather Normalized Source Energy Use (kBtu)', 'Natural Gas Use (kBtu)',\n",
       "       'Weather Normalized Site Natural Gas Use (therms)',\n",
       "       'Electricity Use - Grid Purchase (kBtu)',\n",
       "       'Electricity Use - Grid Purchase (kWh)',\n",
       "       'Weather Normalized Site Electricity (kWh)',\n",
       "       'Electricity Use - Grid Purchase and Generated from Onsite Renewable Systems (kBtu)',\n",
       "       'Green Power - Offsite (kWh)',\n",
       "       'Avoided Emissions - Offsite Green Power (Metric Tons CO2e)',\n",
       "       'National Median Total GHG Emissions (Metric Tons CO2e)',\n",
       "       'eGRID Output Emissions Rate (kgCO2e/MBtu)',\n",
       "       'Net Emissions (Metric Tons CO2e)',\n",
       "       'Percent of Electricity that is Green Power',\n",
       "       'Property GFA - Self-Reported (ft²)',\n",
       "       'Water Use (All Water Sources) (kgal)',\n",
       "       'Indoor Water Use (All Water Sources) (kgal)',\n",
       "       'Indoor Water Use Intensity (All Water Sources) (gal/ft²)',\n",
       "       'Municipally Supplied Potable Water - Indoor Use (kgal)',\n",
       "       'Water Use Intensity (All Water Sources) (gal/ft²)',\n",
       "       'Water Score (Multifamily Only)', 'Irrigated Area (ft²)', 'Borough',\n",
       "       'Latitude', 'Longitude', 'NTA', 'Total GFA (ft2)',\n",
       "       'Average Summer Gas Usage (kBtu)',\n",
       "       'Average Summer Electricity Usage (kBtu)',\n",
       "       'Average Summer Land Surface Temp (F)'],\n",
       "      dtype='object')"
      ]
     },
     "execution_count": 46,
     "metadata": {},
     "output_type": "execute_result"
    }
   ],
   "source": [
    "final_df.columns"
   ]
  },
  {
   "cell_type": "markdown",
   "metadata": {},
   "source": [
    "-- Remove PIDs that are not in the cleaned/merged dataset."
   ]
  },
  {
   "cell_type": "code",
   "execution_count": 2,
   "metadata": {},
   "outputs": [],
   "source": [
    "df1 = raw_df.drop(columns=['Parent Property Id', 'Parent Property Name'])\n",
    "df1.rename(columns={'Natural Gas Use  (kBtu)': 'gas', 'Electricity Use  (kBtu)': 'electricity', 'Property Id': 'pid', 'Property Name': 'pname', 'Month': 'month'}, inplace=True)\n",
    "\n",
    "# ONLY USE THESE IDS\n",
    "df1 = df1[df1['pid'].isin(final_df['Property Id'].unique())]"
   ]
  },
  {
   "cell_type": "markdown",
   "metadata": {},
   "source": [
    "-- Assess for missing values for electricity and gas usage"
   ]
  },
  {
   "cell_type": "code",
   "execution_count": 3,
   "metadata": {},
   "outputs": [
    {
     "name": "stdout",
     "output_type": "stream",
     "text": [
      "# of missing electricity values: 387\n",
      "# of missing gas values: 28546\n",
      "PIDs with missing electricity values: 90\n",
      "PIDs with missing gas values: 3310\n",
      "PIDs with missing values for both: 51\n"
     ]
    }
   ],
   "source": [
    "df2_elec_mv = df1[df1['electricity'].isna()]\n",
    "elec_mv_pid_arr = list(df2_elec_mv['pid'].unique())\n",
    "df2_gas_mv = df1[df1['gas'].isna()]\n",
    "gas_mv_pid_arr = list(df2_gas_mv['pid'].unique())\n",
    "missing_both_pids = [x for x in gas_mv_pid_arr if x in elec_mv_pid_arr]\n",
    "\n",
    "print(\"# of missing electricity values:\", df2_elec_mv.shape[0])\n",
    "print(\"# of missing gas values:\", df2_gas_mv.shape[0])\n",
    "print(\"PIDs with missing electricity values:\", len(elec_mv_pid_arr))\n",
    "print(\"PIDs with missing gas values:\", len(gas_mv_pid_arr))\n",
    "print(\"PIDs with missing values for both:\", len(missing_both_pids))"
   ]
  },
  {
   "cell_type": "code",
   "execution_count": 4,
   "metadata": {},
   "outputs": [],
   "source": [
    "def array_diff(a, b):\n",
    "  c = list(set(a) - set(b))\n",
    "  return c"
   ]
  },
  {
   "cell_type": "markdown",
   "metadata": {},
   "source": [
    "-- Df of location categories and property type"
   ]
  },
  {
   "cell_type": "code",
   "execution_count": 5,
   "metadata": {},
   "outputs": [
    {
     "data": {
      "text/plain": [
       "Index(['Property Id', 'Postcode', 'Borough', 'NTA', 'Type'], dtype='object')"
      ]
     },
     "execution_count": 5,
     "metadata": {},
     "output_type": "execute_result"
    }
   ],
   "source": [
    "df3_location_info = final_df[['Property Id', 'Postcode', 'Borough', 'NTA', 'Primary Property Type - Portfolio Manager-Calculated']]\n",
    "df3_location_info = df3_location_info.rename(columns={'Primary Property Type - Portfolio Manager-Calculated': 'Type'})\n",
    "df3_location_info.columns"
   ]
  },
  {
   "cell_type": "code",
   "execution_count": 6,
   "metadata": {},
   "outputs": [],
   "source": [
    "df3_elec_mv_locs = df3_location_info[df3_location_info['Property Id'].isin(elec_mv_pid_arr)]\n",
    "# df3_elec_mv_locs.groupby('Type')['Property Id'].count().sort_values(ascending=False)"
   ]
  },
  {
   "cell_type": "code",
   "execution_count": 7,
   "metadata": {},
   "outputs": [],
   "source": [
    "df3_gas_mv_locs = df3_location_info[df3_location_info['Property Id'].isin(gas_mv_pid_arr)]\n",
    "# missing_gas_locations.groupby('Type')['Property Id'].count().sort_values(ascending=False)"
   ]
  },
  {
   "cell_type": "markdown",
   "metadata": {},
   "source": [
    "-- Df with monthly energy usage and location info"
   ]
  },
  {
   "cell_type": "code",
   "execution_count": 10,
   "metadata": {},
   "outputs": [],
   "source": [
    "gas_mv_nta_arr = df3_gas_mv_locs['Type'].unique().tolist()\n",
    "elec_mv_nta_arr = df3_elec_mv_locs['Type'].unique().tolist()"
   ]
  },
  {
   "cell_type": "markdown",
   "metadata": {},
   "source": [
    "-- Replace missing values with means for property types"
   ]
  },
  {
   "cell_type": "code",
   "execution_count": 9,
   "metadata": {},
   "outputs": [
    {
     "data": {
      "text/html": [
       "<div>\n",
       "<style scoped>\n",
       "    .dataframe tbody tr th:only-of-type {\n",
       "        vertical-align: middle;\n",
       "    }\n",
       "\n",
       "    .dataframe tbody tr th {\n",
       "        vertical-align: top;\n",
       "    }\n",
       "\n",
       "    .dataframe thead th {\n",
       "        text-align: right;\n",
       "    }\n",
       "</style>\n",
       "<table border=\"1\" class=\"dataframe\">\n",
       "  <thead>\n",
       "    <tr style=\"text-align: right;\">\n",
       "      <th></th>\n",
       "      <th>pname</th>\n",
       "      <th>month</th>\n",
       "      <th>gas</th>\n",
       "      <th>electricity</th>\n",
       "      <th>Postcode</th>\n",
       "      <th>Borough</th>\n",
       "      <th>NTA</th>\n",
       "      <th>Type</th>\n",
       "      <th>pid</th>\n",
       "    </tr>\n",
       "  </thead>\n",
       "  <tbody>\n",
       "    <tr>\n",
       "      <th>0</th>\n",
       "      <td>1155</td>\n",
       "      <td>18-Jan</td>\n",
       "      <td>NaN</td>\n",
       "      <td>2191816.3</td>\n",
       "      <td>10036</td>\n",
       "      <td>MANHATTAN</td>\n",
       "      <td>Midtown-Midtown South</td>\n",
       "      <td>Office</td>\n",
       "      <td>7365</td>\n",
       "    </tr>\n",
       "    <tr>\n",
       "      <th>1</th>\n",
       "      <td>1155</td>\n",
       "      <td>18-Feb</td>\n",
       "      <td>NaN</td>\n",
       "      <td>1881934.0</td>\n",
       "      <td>10036</td>\n",
       "      <td>MANHATTAN</td>\n",
       "      <td>Midtown-Midtown South</td>\n",
       "      <td>Office</td>\n",
       "      <td>7365</td>\n",
       "    </tr>\n",
       "    <tr>\n",
       "      <th>2</th>\n",
       "      <td>1155</td>\n",
       "      <td>18-Mar</td>\n",
       "      <td>NaN</td>\n",
       "      <td>1960262.3</td>\n",
       "      <td>10036</td>\n",
       "      <td>MANHATTAN</td>\n",
       "      <td>Midtown-Midtown South</td>\n",
       "      <td>Office</td>\n",
       "      <td>7365</td>\n",
       "    </tr>\n",
       "    <tr>\n",
       "      <th>3</th>\n",
       "      <td>1155</td>\n",
       "      <td>18-Apr</td>\n",
       "      <td>NaN</td>\n",
       "      <td>1842159.3</td>\n",
       "      <td>10036</td>\n",
       "      <td>MANHATTAN</td>\n",
       "      <td>Midtown-Midtown South</td>\n",
       "      <td>Office</td>\n",
       "      <td>7365</td>\n",
       "    </tr>\n",
       "    <tr>\n",
       "      <th>4</th>\n",
       "      <td>1155</td>\n",
       "      <td>18-May</td>\n",
       "      <td>NaN</td>\n",
       "      <td>1893434.5</td>\n",
       "      <td>10036</td>\n",
       "      <td>MANHATTAN</td>\n",
       "      <td>Midtown-Midtown South</td>\n",
       "      <td>Office</td>\n",
       "      <td>7365</td>\n",
       "    </tr>\n",
       "    <tr>\n",
       "      <th>...</th>\n",
       "      <td>...</td>\n",
       "      <td>...</td>\n",
       "      <td>...</td>\n",
       "      <td>...</td>\n",
       "      <td>...</td>\n",
       "      <td>...</td>\n",
       "      <td>...</td>\n",
       "      <td>...</td>\n",
       "      <td>...</td>\n",
       "    </tr>\n",
       "    <tr>\n",
       "      <th>272443</th>\n",
       "      <td>1080 Holdings</td>\n",
       "      <td>18-Aug</td>\n",
       "      <td>NaN</td>\n",
       "      <td>166430.3</td>\n",
       "      <td>11385</td>\n",
       "      <td>QUEENS</td>\n",
       "      <td>Ridgewood</td>\n",
       "      <td>Other</td>\n",
       "      <td>7538772</td>\n",
       "    </tr>\n",
       "    <tr>\n",
       "      <th>272444</th>\n",
       "      <td>1080 Holdings</td>\n",
       "      <td>18-Sep</td>\n",
       "      <td>NaN</td>\n",
       "      <td>134362.2</td>\n",
       "      <td>11385</td>\n",
       "      <td>QUEENS</td>\n",
       "      <td>Ridgewood</td>\n",
       "      <td>Other</td>\n",
       "      <td>7538772</td>\n",
       "    </tr>\n",
       "    <tr>\n",
       "      <th>272445</th>\n",
       "      <td>1080 Holdings</td>\n",
       "      <td>18-Oct</td>\n",
       "      <td>NaN</td>\n",
       "      <td>100183.2</td>\n",
       "      <td>11385</td>\n",
       "      <td>QUEENS</td>\n",
       "      <td>Ridgewood</td>\n",
       "      <td>Other</td>\n",
       "      <td>7538772</td>\n",
       "    </tr>\n",
       "    <tr>\n",
       "      <th>272446</th>\n",
       "      <td>1080 Holdings</td>\n",
       "      <td>18-Nov</td>\n",
       "      <td>NaN</td>\n",
       "      <td>94622.7</td>\n",
       "      <td>11385</td>\n",
       "      <td>QUEENS</td>\n",
       "      <td>Ridgewood</td>\n",
       "      <td>Other</td>\n",
       "      <td>7538772</td>\n",
       "    </tr>\n",
       "    <tr>\n",
       "      <th>272447</th>\n",
       "      <td>1080 Holdings</td>\n",
       "      <td>18-Dec</td>\n",
       "      <td>NaN</td>\n",
       "      <td>107316.6</td>\n",
       "      <td>11385</td>\n",
       "      <td>QUEENS</td>\n",
       "      <td>Ridgewood</td>\n",
       "      <td>Other</td>\n",
       "      <td>7538772</td>\n",
       "    </tr>\n",
       "  </tbody>\n",
       "</table>\n",
       "<p>272448 rows × 9 columns</p>\n",
       "</div>"
      ],
      "text/plain": [
       "                pname   month  gas  electricity  Postcode    Borough   \n",
       "0                1155  18-Jan  NaN    2191816.3     10036  MANHATTAN  \\\n",
       "1                1155  18-Feb  NaN    1881934.0     10036  MANHATTAN   \n",
       "2                1155  18-Mar  NaN    1960262.3     10036  MANHATTAN   \n",
       "3                1155  18-Apr  NaN    1842159.3     10036  MANHATTAN   \n",
       "4                1155  18-May  NaN    1893434.5     10036  MANHATTAN   \n",
       "...               ...     ...  ...          ...       ...        ...   \n",
       "272443  1080 Holdings  18-Aug  NaN     166430.3     11385     QUEENS   \n",
       "272444  1080 Holdings  18-Sep  NaN     134362.2     11385     QUEENS   \n",
       "272445  1080 Holdings  18-Oct  NaN     100183.2     11385     QUEENS   \n",
       "272446  1080 Holdings  18-Nov  NaN      94622.7     11385     QUEENS   \n",
       "272447  1080 Holdings  18-Dec  NaN     107316.6     11385     QUEENS   \n",
       "\n",
       "                          NTA    Type      pid  \n",
       "0       Midtown-Midtown South  Office     7365  \n",
       "1       Midtown-Midtown South  Office     7365  \n",
       "2       Midtown-Midtown South  Office     7365  \n",
       "3       Midtown-Midtown South  Office     7365  \n",
       "4       Midtown-Midtown South  Office     7365  \n",
       "...                       ...     ...      ...  \n",
       "272443              Ridgewood   Other  7538772  \n",
       "272444              Ridgewood   Other  7538772  \n",
       "272445              Ridgewood   Other  7538772  \n",
       "272446              Ridgewood   Other  7538772  \n",
       "272447              Ridgewood   Other  7538772  \n",
       "\n",
       "[272448 rows x 9 columns]"
      ]
     },
     "execution_count": 9,
     "metadata": {},
     "output_type": "execute_result"
    }
   ],
   "source": [
    "df4_join_nta_usage = df1.set_index('pid').join(df3_location_info.set_index('Property Id'))\n",
    "df4_join_nta_usage['pid'] = df4_join_nta_usage.index\n",
    "df4_join_nta_usage = df4_join_nta_usage.reset_index(drop=True)\n",
    "df4_join_nta_usage"
   ]
  },
  {
   "cell_type": "markdown",
   "metadata": {},
   "source": [
    "-- Replace missing values with medians by property type"
   ]
  },
  {
   "cell_type": "code",
   "execution_count": 13,
   "metadata": {},
   "outputs": [],
   "source": [
    "for ptype in gas_mv_nta_arr:\n",
    "  med = df4_join_nta_usage[df4_join_nta_usage['Type'] == ptype]['gas'].median()\n",
    "  df4_join_nta_usage.loc[df4_join_nta_usage['Type'] == ptype] = df4_join_nta_usage.loc[df4_join_nta_usage['Type'] == ptype].fillna({'gas': med})"
   ]
  },
  {
   "cell_type": "code",
   "execution_count": 14,
   "metadata": {},
   "outputs": [],
   "source": [
    "for ptype in elec_mv_nta_arr:\n",
    "  med = df4_join_nta_usage[df4_join_nta_usage['Type'] == ptype]['electricity'].median()\n",
    "  df4_join_nta_usage.loc[df4_join_nta_usage['Type'] == ptype] = df4_join_nta_usage.loc[df4_join_nta_usage['Type'] == ptype].fillna({'electricity': med})"
   ]
  },
  {
   "cell_type": "code",
   "execution_count": 15,
   "metadata": {},
   "outputs": [
    {
     "data": {
      "text/html": [
       "<div>\n",
       "<style scoped>\n",
       "    .dataframe tbody tr th:only-of-type {\n",
       "        vertical-align: middle;\n",
       "    }\n",
       "\n",
       "    .dataframe tbody tr th {\n",
       "        vertical-align: top;\n",
       "    }\n",
       "\n",
       "    .dataframe thead th {\n",
       "        text-align: right;\n",
       "    }\n",
       "</style>\n",
       "<table border=\"1\" class=\"dataframe\">\n",
       "  <thead>\n",
       "    <tr style=\"text-align: right;\">\n",
       "      <th></th>\n",
       "      <th>pname</th>\n",
       "      <th>month</th>\n",
       "      <th>gas</th>\n",
       "      <th>electricity</th>\n",
       "      <th>Postcode</th>\n",
       "      <th>Borough</th>\n",
       "      <th>NTA</th>\n",
       "      <th>Type</th>\n",
       "      <th>pid</th>\n",
       "    </tr>\n",
       "  </thead>\n",
       "  <tbody>\n",
       "  </tbody>\n",
       "</table>\n",
       "</div>"
      ],
      "text/plain": [
       "Empty DataFrame\n",
       "Columns: [pname, month, gas, electricity, Postcode, Borough, NTA, Type, pid]\n",
       "Index: []"
      ]
     },
     "execution_count": 15,
     "metadata": {},
     "output_type": "execute_result"
    }
   ],
   "source": [
    "df4_join_nta_usage[df4_join_nta_usage['gas'].isna()]"
   ]
  },
  {
   "cell_type": "code",
   "execution_count": 16,
   "metadata": {},
   "outputs": [
    {
     "data": {
      "text/html": [
       "<div>\n",
       "<style scoped>\n",
       "    .dataframe tbody tr th:only-of-type {\n",
       "        vertical-align: middle;\n",
       "    }\n",
       "\n",
       "    .dataframe tbody tr th {\n",
       "        vertical-align: top;\n",
       "    }\n",
       "\n",
       "    .dataframe thead th {\n",
       "        text-align: right;\n",
       "    }\n",
       "</style>\n",
       "<table border=\"1\" class=\"dataframe\">\n",
       "  <thead>\n",
       "    <tr style=\"text-align: right;\">\n",
       "      <th></th>\n",
       "      <th>pname</th>\n",
       "      <th>month</th>\n",
       "      <th>gas</th>\n",
       "      <th>electricity</th>\n",
       "      <th>Postcode</th>\n",
       "      <th>Borough</th>\n",
       "      <th>NTA</th>\n",
       "      <th>Type</th>\n",
       "      <th>pid</th>\n",
       "    </tr>\n",
       "  </thead>\n",
       "  <tbody>\n",
       "  </tbody>\n",
       "</table>\n",
       "</div>"
      ],
      "text/plain": [
       "Empty DataFrame\n",
       "Columns: [pname, month, gas, electricity, Postcode, Borough, NTA, Type, pid]\n",
       "Index: []"
      ]
     },
     "execution_count": 16,
     "metadata": {},
     "output_type": "execute_result"
    }
   ],
   "source": [
    "df4_join_nta_usage[df4_join_nta_usage['electricity'].isna()]"
   ]
  },
  {
   "cell_type": "markdown",
   "metadata": {},
   "source": [
    "-- Export as new dataset"
   ]
  },
  {
   "cell_type": "code",
   "execution_count": 181,
   "metadata": {},
   "outputs": [],
   "source": [
    "out_df = df4_join_nta_usage[['pid', 'pname', 'Type', 'month', 'gas', 'electricity', 'Postcode', 'Borough', 'NTA']]\n",
    "out_df.rename(columns={'pid': 'PID', 'pname': 'PName', 'month': 'Month', 'gas': 'Gas Usage', 'electricity': 'Electricity Usage'}, inplace=True)\n",
    "out_df.to_csv('/Users/agnespark/fds/data/monthly_usage.csv', index=False)"
   ]
  }
 ],
 "metadata": {
  "kernelspec": {
   "display_name": "eb-virt",
   "language": "python",
   "name": "python3"
  },
  "language_info": {
   "codemirror_mode": {
    "name": "ipython",
    "version": 3
   },
   "file_extension": ".py",
   "mimetype": "text/x-python",
   "name": "python",
   "nbconvert_exporter": "python",
   "pygments_lexer": "ipython3",
   "version": "3.11.2"
  }
 },
 "nbformat": 4,
 "nbformat_minor": 2
}
